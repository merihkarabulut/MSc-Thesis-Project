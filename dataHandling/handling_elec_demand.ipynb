{
 "cells": [
  {
   "cell_type": "code",
   "execution_count": null,
   "metadata": {},
   "outputs": [],
   "source": [
    "import pandas as pd\n",
    "from fbprophet import Prophet\n",
    "from tqdm import tqdm\n",
    "import matplotlib.pyplot as plt\n",
    "from sklearn.linear_model import LinearRegression\n",
    "import numpy as np"
   ]
  },
  {
   "cell_type": "code",
   "execution_count": null,
   "metadata": {},
   "outputs": [],
   "source": [
    "# Reading hourly electricity demand data from the source file (.csv)\n",
    "electricity_demand = pd.read_csv(r\"rawData\\electricity_demand\\hourly_electricity_demand.csv\")"
   ]
  },
  {
   "cell_type": "code",
   "execution_count": null,
   "metadata": {},
   "outputs": [],
   "source": [
    "df = pd.DataFrame()\n",
    "# Create a 'x' and 'y' column for convenience\n",
    "df['Load'] = electricity_demand['NL_load']     # create a new y-col (optional)\n",
    "df['Hours'] = np.arange(len(df))\n",
    "\n",
    "lin_reg = LinearRegression()\n",
    "lin_reg.fit(X=df['Hours'].values[:, np.newaxis], y=df['Load'].values[:, np.newaxis])\n",
    "\n",
    "# Make predictions w.r.t. 'x' and store it in a column called 'y_pred'\n",
    "df['Load_pred'] = lin_reg.predict(df['Hours'].values[:, np.newaxis])\n",
    "\n",
    "# Plot 'y' and 'y_pred' vs 'x'\n",
    "df[['Load', 'Load_pred', 'Hours']].plot(x='Hours', figsize=(16,6))  # Remember 'y' is 'Adj Close'"
   ]
  },
  {
   "cell_type": "code",
   "execution_count": null,
   "metadata": {},
   "outputs": [],
   "source": [
    "f, ax = plt.subplots(figsize=(16, 8))\n",
    "ydata = electricity_demand[\"NL_load\"]\n",
    "ydata2 = forecast_lean[\"yhat\"]\n",
    "linedata = df[\"Load_pred\"]\n",
    "plt.xlabel(\"Hours\", {'fontsize': 14})\n",
    "plt.ylabel(\"Electricity demand (MWh)\", {'fontsize': 14})\n",
    "plt.title(\"Collected electricity demand data (2006-2017)\", {'fontsize': 18})\n",
    "ax.plot(ydata)\n",
    "ax.plot(linedata)\n",
    "ax.set_ylim(ymin=0)\n",
    "# plt.savefig('Collected electricity demand data (2006-2017).png')\n",
    "plt.show(f)"
   ]
  },
  {
   "cell_type": "code",
   "execution_count": null,
   "metadata": {},
   "outputs": [],
   "source": [
    "# Reading hourly electricity demand data from the source file (.csv)\n",
    "electricity_demand = pd.read_csv(r\"rawData\\electricity_demand\\hourly_electricity_demand.csv\")\n",
    "\n",
    "# Formatting the dataframe with respect to the requirements of \"fbprophet\"\n",
    "firstRowDate = \"1/1/2006\"\n",
    "electricity_demand.insert(0, \"ds\", pd.date_range(start=firstRowDate, periods=len(electricity_demand), freq='H'))\n",
    "electricity_demand = electricity_demand.rename({'NL_load': 'y'}, axis=1)\n",
    "\n",
    "# Running \"Prophet\" to predict hourly electricity demand between \"01.01.2020 00:00-01:00\" and \"31.12.2049 23:00-00:00\". \n",
    "m = Prophet()\n",
    "m.fit(electricity_demand)\n",
    "\n",
    "# 8760*32 --> from 2018 to 2050, \"H\" --> hourly\n",
    "future = m.make_future_dataframe(periods=8760*32, freq='H' )\n",
    "\n",
    "# Creating a new dataframe with forecasted data. \n",
    "forecast = m.predict(future)\n",
    "forecast.to_json(r\"processedData\\processed_electricity_demand\\forecast_electricity.json\", orient=\"split\")"
   ]
  },
  {
   "cell_type": "markdown",
   "metadata": {},
   "source": [
    "# Checkpoint 1"
   ]
  },
  {
   "cell_type": "code",
   "execution_count": null,
   "metadata": {},
   "outputs": [],
   "source": [
    "forecast_lean = pd.read_json(r\"processedData\\processed_electricity_demand\\forecast_electricity.json\", orient=\"split\")"
   ]
  },
  {
   "cell_type": "code",
   "execution_count": null,
   "metadata": {},
   "outputs": [],
   "source": [
    "forecast_lean = forecast_lean[['yhat']].iloc[122640:122640+87600,:]\n",
    "f, ax = plt.subplots(figsize=(20, 10))\n",
    "ydata = forecast_lean[\"yhat\"]\n",
    "plt.xlabel(\"Hours\", {'fontsize': 14})\n",
    "plt.ylabel(\"Electricity demand (MWh)\", {'fontsize': 14})\n",
    "plt.title(\"Collected electricity demand data (2020-2030)\", {'fontsize': 18})\n",
    "ax.plot(ydata)\n",
    "ax.set_ylim(ymin=0)\n",
    "# plt.savefig('Collected electricity demand data (2020-2030).png')\n",
    "plt.show(f)"
   ]
  },
  {
   "cell_type": "code",
   "execution_count": null,
   "metadata": {
    "scrolled": false
   },
   "outputs": [],
   "source": [
    "# Selecting predicted values (only for 2020to2050)\n",
    "forecast_lean = forecast_lean[['yhat']].iloc[122640:,:]\n",
    "ax = forecast_lean.plot(figsize=[16,6])\n",
    "ax.set_xlabel(\"Hours\")\n",
    "ax.set_ylabel(\"Electricity demand, MWh\")"
   ]
  },
  {
   "cell_type": "code",
   "execution_count": null,
   "metadata": {},
   "outputs": [],
   "source": [
    "forecast_lean = forecast_lean.reset_index(drop=True)\n",
    "forecast_lean.to_json(r\"processedData\\processed_electricity_demand\\forecast_electricity_lean.json\", orient=\"split\")"
   ]
  },
  {
   "cell_type": "markdown",
   "metadata": {},
   "source": [
    "# Checkpoint 2"
   ]
  },
  {
   "cell_type": "code",
   "execution_count": null,
   "metadata": {},
   "outputs": [],
   "source": [
    "forecast_lean = pd.read_json(r\"processedData\\processed_electricity_demand\\forecast_electricity_lean.json\", orient=\"split\")\n",
    "\n",
    "for d in tqdm(range(3650*3)):\n",
    "    for h in range(24):\n",
    "        forecast_lean.loc[(d*24)+h, \"dayIndex\"] = d\n",
    "\n",
    "representativeDays = [149, 336, 1255, 1381, 1414, 1486, 2239, 3284, 3462]\n",
    "listHours = []\n",
    "\n",
    "for y in range(3):\n",
    "    for d in representativeDays:\n",
    "        for h in range(24):\n",
    "            listHours.append(24*(d+y*3650) + h)\n",
    "\n",
    "forecast_lean = forecast_lean[forecast_lean.index.isin(listHours)]\n",
    "forecast_lean = forecast_lean.reset_index(drop=True)"
   ]
  },
  {
   "cell_type": "code",
   "execution_count": null,
   "metadata": {},
   "outputs": [],
   "source": [
    "three_hourly_electricity_demand = pd.DataFrame(columns=[\"Value\"])\n",
    "\n",
    "emptyListValue = []\n",
    "emptyListDay = []\n",
    "\n",
    "for i in tqdm(range(int(len(forecast_lean)/3))):\n",
    "    day = forecast_lean.loc[1+(3*i),\"dayIndex\"]\n",
    "    value = forecast_lean.loc[1+(3*i),\"yhat\"] * 3\n",
    "    value =  value * 1000 # converting MWh to KWh\n",
    "    emptyListValue.append(value)\n",
    "    emptyListDay.append(day)\n",
    "    \n",
    "three_hourly_electricity_demand[\"Value\"] = emptyListValue\n",
    "three_hourly_electricity_demand[\"dayIndex\"] = emptyListDay\n",
    "\n",
    "daily_elec_demand = pd.DataFrame(columns=[\"Value\", \"dayIndex\"])\n",
    "for i in tqdm(range(int(len(three_hourly_electricity_demand)/8))):\n",
    "    daily_elec_demand.loc[i, \"dayIndex\"] = three_hourly_electricity_demand.loc[(0 + 8*i), \"dayIndex\"]\n",
    "    daily_elec_demand.loc[i, \"Value\"] = list(three_hourly_electricity_demand.loc[(0 + 8*i):(7 + 8*i), \"Value\"])"
   ]
  },
  {
   "cell_type": "code",
   "execution_count": null,
   "metadata": {},
   "outputs": [],
   "source": [
    "daily_elec_demand.to_json(r\"processedData\\processed_electricity_demand\\daily_3hourly_elecDemand.json\", orient='split')"
   ]
  }
 ],
 "metadata": {
  "kernelspec": {
   "display_name": "Python 3",
   "language": "python",
   "name": "python3"
  },
  "language_info": {
   "codemirror_mode": {
    "name": "ipython",
    "version": 3
   },
   "file_extension": ".py",
   "mimetype": "text/x-python",
   "name": "python",
   "nbconvert_exporter": "python",
   "pygments_lexer": "ipython3",
   "version": "3.6.8"
  }
 },
 "nbformat": 4,
 "nbformat_minor": 2
}
