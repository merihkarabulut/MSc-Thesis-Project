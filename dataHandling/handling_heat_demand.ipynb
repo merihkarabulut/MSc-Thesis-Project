{
 "cells": [
  {
   "cell_type": "code",
   "execution_count": null,
   "metadata": {},
   "outputs": [],
   "source": [
    "import pandas as pd\n",
    "import numpy as np\n",
    "import demandlib.bdew as bdew\n",
    "import datetime\n",
    "import matplotlib.pyplot as plt\n",
    "from tqdm import tqdm"
   ]
  },
  {
   "cell_type": "code",
   "execution_count": null,
   "metadata": {},
   "outputs": [],
   "source": [
    "df = pd.read_json(r\"raw_datasets\\merged_lean_solar_data.json\", orient=\"split\")\n",
    "df = df.drop(['lat', 'population', 'lon', 'solar_output_list', 'solar_data_list', ], axis=1)"
   ]
  },
  {
   "cell_type": "code",
   "execution_count": null,
   "metadata": {},
   "outputs": [],
   "source": [
    "yearly_demand_db = pd.read_csv(r\"raw_datasets\\heat_demand_DATABASE.csv\")\n",
    "\n",
    "# Fixing 's-Gravenhage's 1st character error\n",
    "indexOfDenHaag = yearly_demand_db.loc[yearly_demand_db[\"Row Labels\"] == \"'s-Gravenhage\"].index[0]\n",
    "yearly_demand_db.at[indexOfDenHaag,\"Row Labels\"] = \"s-Gravenhage\"\n",
    "\n",
    "yearly_demand_db = yearly_demand_db.rename(index=str, columns={\"Row Labels\": \"gemeentenaam\"})"
   ]
  },
  {
   "cell_type": "code",
   "execution_count": null,
   "metadata": {},
   "outputs": [],
   "source": [
    "df_merge = pd.merge(df, yearly_demand_db, on='gemeentenaam')\n",
    "df_merge.head()"
   ]
  },
  {
   "cell_type": "code",
   "execution_count": null,
   "metadata": {},
   "outputs": [],
   "source": [
    "gdf_demand_df = pd.DataFrame(index=range(87600), columns=list(df_merge.iloc[:,0]))"
   ]
  },
  {
   "cell_type": "code",
   "execution_count": null,
   "metadata": {
    "scrolled": true
   },
   "outputs": [],
   "source": [
    "# generate data for 10 years:\n",
    "\n",
    "for i in range(len(df_merge)):\n",
    "    print(i)\n",
    "    for y in range(10):\n",
    "        demand = pd.DataFrame(index=pd.date_range(pd.datetime(2006+y, 1, 1, 0), periods=8760, freq='H'))\n",
    "\n",
    "        lowerThreshold = (0 + 8760*y)\n",
    "        upperThreshold = (8760*y+8760)\n",
    "        muniName = list(df_merge.iloc[:,0])[i]\n",
    "        \n",
    "        temperature = pd.DataFrame(df_merge.iloc[i,1][lowerThreshold:upperThreshold])\n",
    "        annualDemand = df_merge.iloc[i,4] * 1000\n",
    "\n",
    "        demandValues = bdew.HeatBuilding(demand.index, holidays={}, temperature=temperature,\n",
    "                                          shlp_type='ghd', wind_class=0, annual_heat_demand=annualDemand,\n",
    "                                          name='ghd').get_bdew_profile()\n",
    "\n",
    "        gdf_demand_df.loc[lowerThreshold:upperThreshold-1, muniName] = list(demandValues)"
   ]
  },
  {
   "cell_type": "code",
   "execution_count": null,
   "metadata": {},
   "outputs": [],
   "source": [
    "gdf_demand_df.to_json(r\"processed_datasets\\gdf_heat_demand.json\", orient=\"split\")"
   ]
  },
  {
   "cell_type": "code",
   "execution_count": null,
   "metadata": {},
   "outputs": [],
   "source": [
    "ggb_demand_df = pd.DataFrame(index=range(87600), columns=list(df_merge.iloc[:,0]))\n",
    "# generate data for 10 years:\n",
    "\n",
    "for i in range(len(df_merge)):\n",
    "    print(i)\n",
    "    for y in range(10):\n",
    "        demand = pd.DataFrame(index=pd.date_range(pd.datetime(2006+y, 1, 1, 0), periods=8760, freq='H'))\n",
    "\n",
    "        lowerThreshold = (0 + 8760*y)\n",
    "        upperThreshold = (8760*y+8760)\n",
    "        muniName = list(df_merge.iloc[:,0])[i]\n",
    "        \n",
    "        temperature = pd.DataFrame(df_merge.iloc[i,1][lowerThreshold:upperThreshold])\n",
    "        annualDemand = df_merge.iloc[i,3] * 1000\n",
    "\n",
    "        demandValues = bdew.HeatBuilding(demand.index, holidays={}, temperature=temperature,\n",
    "                                          shlp_type='ggb', wind_class=0, annual_heat_demand=annualDemand,\n",
    "                                          name='ggb').get_bdew_profile()\n",
    "\n",
    "        ggb_demand_df.loc[lowerThreshold:upperThreshold-1, muniName] = list(demandValues)"
   ]
  },
  {
   "cell_type": "code",
   "execution_count": null,
   "metadata": {},
   "outputs": [],
   "source": [
    "ggb_demand_df.to_json(r\"processed_datasets\\ggb_heat_demand.json\", orient=\"split\")"
   ]
  },
  {
   "cell_type": "code",
   "execution_count": null,
   "metadata": {
    "scrolled": true
   },
   "outputs": [],
   "source": [
    "hh_demand_df = pd.DataFrame(index=range(87600), columns=list(df_merge.iloc[:,0]))\n",
    "# generate data for 10 years:\n",
    "\n",
    "for i in range(len(df_merge)):\n",
    "    print(i)\n",
    "    for y in range(10):\n",
    "        demand = pd.DataFrame(index=pd.date_range(pd.datetime(2006+y, 1, 1, 0), periods=8760, freq='H'))\n",
    "\n",
    "        lowerThreshold = (0 + 8760*y)\n",
    "        upperThreshold = (8760*y+8760)\n",
    "        muniName = list(df_merge.iloc[:,0])[i]\n",
    "        \n",
    "        temperature = pd.DataFrame(df_merge.iloc[i,1][lowerThreshold:upperThreshold])\n",
    "        annualDemand = df_merge.iloc[i,2] * 1000\n",
    "\n",
    "        demandValues = bdew.HeatBuilding(demand.index, holidays={}, temperature=temperature,\n",
    "                                          shlp_type='MFH', building_class=1, wind_class=0, \n",
    "                                          annual_heat_demand=annualDemand, name='MFH').get_bdew_profile()\n",
    "\n",
    "        hh_demand_df.loc[lowerThreshold:upperThreshold-1, muniName] = list(demandValues)"
   ]
  },
  {
   "cell_type": "code",
   "execution_count": null,
   "metadata": {},
   "outputs": [],
   "source": [
    "hh_demand_df.to_json(r\"processed_datasets\\hh_heat_demand.json\", orient=\"split\")"
   ]
  },
  {
   "cell_type": "code",
   "execution_count": null,
   "metadata": {},
   "outputs": [],
   "source": [
    "total_heat_demand_df = gdf_demand_df.add(ggb_demand_df, fill_value=0)\n",
    "total_heat_demand_df = total_heat_demand_df.add(hh_demand_df, fill_value=0)"
   ]
  },
  {
   "cell_type": "markdown",
   "metadata": {},
   "source": [
    "### Checkpoint 1"
   ]
  },
  {
   "cell_type": "code",
   "execution_count": null,
   "metadata": {},
   "outputs": [],
   "source": [
    "hh_demand_df = pd.read_json(r\"processedData\\processed_heat_demand\\hh_heat_demand.json\", orient=\"split\")\n",
    "ggb_demand_df = pd.read_json(r\"processedData\\processed_heat_demand\\ggb_heat_demand.json\", orient=\"split\")\n",
    "gdf_demand_df = pd.read_json(r\"processedData\\processed_heat_demand\\gdf_heat_demand.json\", orient=\"split\")\n",
    "\n",
    "total_heat_demand_df = gdf_demand_df.add(ggb_demand_df, fill_value=0)\n",
    "total_heat_demand_df = total_heat_demand_df.add(hh_demand_df, fill_value=0)"
   ]
  },
  {
   "cell_type": "code",
   "execution_count": null,
   "metadata": {},
   "outputs": [],
   "source": [
    "total_heat_demand_df = pd.concat([total_heat_demand_df, total_heat_demand_df, total_heat_demand_df], ignore_index=True)"
   ]
  },
  {
   "cell_type": "code",
   "execution_count": null,
   "metadata": {},
   "outputs": [],
   "source": [
    "for d in tqdm(range(3650*3)):\n",
    "    for h in range(24):\n",
    "        total_heat_demand_df.loc[(d*24)+h, \"dayIndex\"] = d\n",
    "\n",
    "representativeDays = [149, 336, 1255, 1381, 1414, 1486, 2239, 3284, 3462]\n",
    "listHours = []\n",
    "\n",
    "for y in range(3):\n",
    "    for d in representativeDays:\n",
    "        for h in range(24):\n",
    "            listHours.append(24*(d+y*3650) + h)\n",
    "\n",
    "total_heat_demand_df = total_heat_demand_df[total_heat_demand_df.index.isin(listHours)]\n",
    "total_heat_demand_df = total_heat_demand_df.reset_index(drop=True)"
   ]
  },
  {
   "cell_type": "code",
   "execution_count": null,
   "metadata": {},
   "outputs": [],
   "source": [
    "three_hourly_heat_demand = pd.DataFrame(columns=list(total_heat_demand_df))\n",
    "\n",
    "for muni in tqdm(list(three_hourly_heat_demand)):\n",
    "    if muni != \"dayIndex\":\n",
    "        emptyListValue = []\n",
    "        \n",
    "        for i in range(int(len(total_heat_demand_df)/3)):\n",
    "            value = total_heat_demand_df.loc[1+(3*i), muni] * 3\n",
    "            emptyListValue.append(value)\n",
    "            \n",
    "        three_hourly_heat_demand[muni] = emptyListValue\n",
    "    \n",
    "    else:\n",
    "        emptyListDay = []\n",
    "        for i in range(int(len(total_heat_demand_df)/3)):\n",
    "            day = total_heat_demand_df.loc[1+(3*i), muni]\n",
    "            emptyListDay.append(day)\n",
    "\n",
    "        three_hourly_heat_demand[muni] = emptyListDay\n",
    "        \n",
    "daily_heat_demand = pd.DataFrame(columns=list(three_hourly_heat_demand))\n",
    "\n",
    "for muni in tqdm(list(daily_heat_demand)):\n",
    "    if muni != \"dayIndex\":\n",
    "        for i in range(int(len(three_hourly_heat_demand)/8)):\n",
    "            daily_heat_demand.loc[i, muni] = list(three_hourly_heat_demand[muni].loc[(0 + 8*i):(7 + 8*i)])\n",
    "    else:\n",
    "        for i in range(int(len(three_hourly_heat_demand)/8)):\n",
    "            daily_heat_demand.loc[i, muni] = three_hourly_heat_demand[muni].loc[(0 + 8*i)]"
   ]
  },
  {
   "cell_type": "code",
   "execution_count": null,
   "metadata": {},
   "outputs": [],
   "source": [
    "daily_heat_demand.to_json(r'processedData\\processed_heat_demand\\daily_3hourly_heatDemand.json',orient='split')"
   ]
  }
 ],
 "metadata": {
  "kernelspec": {
   "display_name": "Python 3",
   "language": "python",
   "name": "python3"
  },
  "language_info": {
   "codemirror_mode": {
    "name": "ipython",
    "version": 3
   },
   "file_extension": ".py",
   "mimetype": "text/x-python",
   "name": "python",
   "nbconvert_exporter": "python",
   "pygments_lexer": "ipython3",
   "version": "3.6.8"
  }
 },
 "nbformat": 4,
 "nbformat_minor": 2
}
