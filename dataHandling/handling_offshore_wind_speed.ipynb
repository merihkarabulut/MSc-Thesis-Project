{
 "cells": [
  {
   "cell_type": "code",
   "execution_count": null,
   "metadata": {},
   "outputs": [],
   "source": [
    "import pandas as pd\n",
    "import numpy as np\n",
    "import matplotlib.pyplot as plt\n",
    "from random import *\n",
    "import math\n",
    "from tqdm import tqdm"
   ]
  },
  {
   "cell_type": "code",
   "execution_count": null,
   "metadata": {},
   "outputs": [],
   "source": [
    "# Reading offshore wind speed data from csv file\n",
    "wind_offshore_db = pd.read_csv(r'rawData\\offshore_output\\hourly_offshore_wind_speed.csv')\n",
    "\n",
    "# extending it to 30 years\n",
    "wind_offshore_db = pd.concat([wind_offshore_db, wind_offshore_db, wind_offshore_db], ignore_index=True)"
   ]
  },
  {
   "cell_type": "code",
   "execution_count": null,
   "metadata": {},
   "outputs": [],
   "source": [
    "for d in tqdm(range(3650*3)):\n",
    "    for h in range(24):\n",
    "        wind_offshore_db.loc[(d*24)+h, \"dayIndex\"] = d\n",
    "\n",
    "representativeDays = [149, 336, 1255, 1381, 1414, 1486, 2239, 3284, 3462]\n",
    "listHours = []\n",
    "\n",
    "for y in range(3):\n",
    "    for d in representativeDays:\n",
    "        for h in range(24):\n",
    "            listHours.append(24*(d+y*3650) + h)\n",
    "\n",
    "wind_offshore_db = wind_offshore_db[wind_offshore_db.index.isin(listHours)]\n",
    "wind_offshore_db = wind_offshore_db.reset_index(drop=True)"
   ]
  },
  {
   "cell_type": "code",
   "execution_count": null,
   "metadata": {},
   "outputs": [],
   "source": [
    "three_hourly_offshore_wind_speed = pd.DataFrame(columns=[\"Value\"])\n",
    "\n",
    "emptyListValue = []\n",
    "emptyListDay = []\n",
    "\n",
    "for i in tqdm(range(int(len(wind_offshore_db)/3))):\n",
    "    day = wind_offshore_db.loc[1+(3*i),\"dayIndex\"]\n",
    "    value = wind_offshore_db.loc[1+(3*i),\"windspeed(m/s)\"]\n",
    "    emptyListValue.append(value)\n",
    "    emptyListDay.append(day)\n",
    "    \n",
    "three_hourly_offshore_wind_speed[\"Value\"] = emptyListValue\n",
    "three_hourly_offshore_wind_speed[\"dayIndex\"] = emptyListDay"
   ]
  },
  {
   "cell_type": "code",
   "execution_count": null,
   "metadata": {},
   "outputs": [],
   "source": [
    "offshore_wind_values = [0,1,2,3,  4,  5,  6,   7,   8,   9,   10,  11,  12,  13,  14,  15,  16,  17,  18,  19,  20,  21,  22,  23,  24,  25,  26,  27,  28,  29]\n",
    "offshore_power_curve = [0,0,0,157,500,981,1639,2529,3640,4928,6050,6156,6300,6300,6300,6300,6300,6300,6300,6300,6300,6300,6300,6300,6300,6300,6300,6300,6300,6300]\n",
    "\n",
    "offshore_output = pd.DataFrame(columns=[\"Value\", \"dayIndex\"])\n",
    "emptyListValue = []\n",
    "\n",
    "for i in tqdm(range(len(wind_offshore_db))):\n",
    "    windSpeed = wind_offshore_db.loc[i,\"windspeed(m/s)\"]\n",
    "    windOutput = round(np.interp(windSpeed, offshore_wind_values, offshore_power_curve),3)\n",
    "    \n",
    "    emptyListValue.append(windOutput)\n",
    "    \n",
    "offshore_output[\"Value\"] = emptyListValue\n",
    "#offshore_output[\"dayIndex\"] = three_hourly_offshore_wind_speed[\"dayIndex\"]\n",
    "# finding the output of 1kW installation: \n",
    "offshore_output[\"Value\"] = offshore_output.loc[:,\"Value\"] / max(offshore_power_curve)"
   ]
  },
  {
   "cell_type": "code",
   "execution_count": null,
   "metadata": {},
   "outputs": [],
   "source": [
    "offshore_wind_values = [0,1,2,3,  4,  5,  6,   7,   8,   9,   10,  11,  12,  13,  14,  15,  16,  17,  18,  19,  20,  21,  22,  23,  24,  25,  26,  27,  28,  29]\n",
    "offshore_power_curve = [0,0,0,157,500,981,1639,2529,3640,4928,6050,6156,6300,6300,6300,6300,6300,6300,6300,6300,6300,6300,6300,6300,6300,6300,6300,6300,6300,6300]\n",
    "\n",
    "offshore_output = pd.DataFrame(columns=[\"Value\", \"dayIndex\"])\n",
    "emptyListValue = []\n",
    "\n",
    "for i in tqdm(range(len(three_hourly_offshore_wind_speed))):\n",
    "    windSpeed = three_hourly_offshore_wind_speed.loc[i,\"Value\"]\n",
    "    windOutput = round(np.interp(windSpeed, offshore_wind_values, offshore_power_curve),3)*3\n",
    "    \n",
    "    emptyListValue.append(windOutput)\n",
    "    \n",
    "offshore_output[\"Value\"] = emptyListValue\n",
    "offshore_output[\"dayIndex\"] = three_hourly_offshore_wind_speed[\"dayIndex\"]\n",
    "# finding the output of 1kW installation: \n",
    "offshore_output[\"Value\"] = offshore_output.loc[:,\"Value\"] / max(offshore_power_curve)"
   ]
  },
  {
   "cell_type": "code",
   "execution_count": null,
   "metadata": {},
   "outputs": [],
   "source": [
    "daily_offshore_windspeed = pd.DataFrame(columns=[\"Value\", \"dayIndex\"])\n",
    "emptyList = []\n",
    "\n",
    "for i in tqdm(range(int(len(offshore_output)/8))):\n",
    "    daily_offshore_windspeed.loc[i, \"Value\"] = list(offshore_output.loc[(0 + 8*i):(7 + 8*i), \"Value\"])\n",
    "    daily_offshore_windspeed.loc[i, \"dayIndex\"] = offshore_output.loc[(0 + 8*i), \"dayIndex\"]\n",
    "\n",
    "daily_offshore_windspeed.to_json(r\"processedData\\processed_offshore_output\\daily_3hourly_offshoreOutput.json\", orient='split')"
   ]
  }
 ],
 "metadata": {
  "kernelspec": {
   "display_name": "Python 3",
   "language": "python",
   "name": "python3"
  },
  "language_info": {
   "codemirror_mode": {
    "name": "ipython",
    "version": 3
   },
   "file_extension": ".py",
   "mimetype": "text/x-python",
   "name": "python",
   "nbconvert_exporter": "python",
   "pygments_lexer": "ipython3",
   "version": "3.6.8"
  }
 },
 "nbformat": 4,
 "nbformat_minor": 2
}
