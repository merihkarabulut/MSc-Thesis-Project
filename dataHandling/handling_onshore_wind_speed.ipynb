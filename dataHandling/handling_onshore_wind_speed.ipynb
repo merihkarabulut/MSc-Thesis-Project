{
 "cells": [
  {
   "cell_type": "code",
   "execution_count": null,
   "metadata": {},
   "outputs": [],
   "source": [
    "import pandas as pd\n",
    "import numpy as np\n",
    "import matplotlib.pyplot as plt\n",
    "from random import *\n",
    "import math\n",
    "from datetime import datetime\n",
    "import datawig\n",
    "from tqdm import tqdm"
   ]
  },
  {
   "cell_type": "code",
   "execution_count": null,
   "metadata": {},
   "outputs": [],
   "source": [
    "# Reading onshore wind speed data from csv file\n",
    "wind_onshore_db = pd.read_csv(r'rawData\\onshore_output\\hourly_onshore_wind_speed.csv')\n",
    "wind_onshore_db = wind_onshore_db.drop([\"YYYYMMDD\", \"HH\"], axis=1)\n",
    "chosenStations = [\"sta209\",\"sta215\",\"sta225\",\"sta235\",\"sta240\",\"sta242\",\"sta248\",\"sta249\",\"sta251\",\"sta257\",\"sta258\",\"sta267\",\"sta269\",\"sta270\",\"sta273\",\"sta277\",\"sta280\",\"sta285\",\"sta286\",\"sta308\",\"sta310\",\"sta311\",\"sta315\",\"sta316\",\"sta319\",\"sta323\",\"sta324\",\"sta330\",\"sta331\",\"sta340\",\"sta343\",\"sta344\",\"sta350\",\"sta370\",\"sta375\"]"
   ]
  },
  {
   "cell_type": "code",
   "execution_count": null,
   "metadata": {},
   "outputs": [],
   "source": [
    "stationList = []\n",
    "for i in list(wind_onshore_db):\n",
    "    if i in chosenStations:\n",
    "        stationList.append(i)\n",
    "        \n",
    "wind_onshore_db = wind_onshore_db.loc[:,stationList] "
   ]
  },
  {
   "cell_type": "markdown",
   "metadata": {},
   "source": [
    "# Identifying the columns with missing values."
   ]
  },
  {
   "cell_type": "code",
   "execution_count": null,
   "metadata": {},
   "outputs": [],
   "source": [
    "missingRowSum = wind_onshore_db.isnull().sum(axis = 0)\n",
    "blackList = []\n",
    "\n",
    "# Identifying the columns with too many missing rows, and dropping them:\n",
    "for i in range(len(list(wind_onshore_db))):\n",
    "    # if higher than 50% of the total num of values:\n",
    "    if missingRowSum[i] >= (len(wind_onshore_db) / 2):\n",
    "        blackList.append(i)\n",
    "\n",
    "wind_onshore_db = wind_onshore_db.drop(wind_onshore_db.columns[blackList], axis=1)\n",
    "\n",
    "\n",
    "# Re-implementing the process above to identify columns with and without NaN\n",
    "missingRowSum = wind_onshore_db.isnull().sum(axis = 0)\n",
    "columnsWithNan = []\n",
    "columnsWithoutNan = []\n",
    "\n",
    "for i in range(len(list(wind_onshore_db))):\n",
    "    # if column contains a NaN value:\n",
    "    if missingRowSum[i] > 0:\n",
    "        columnsWithNan.append(i)\n",
    "    else:\n",
    "        columnsWithoutNan.append(i)\n",
    "        \n",
    "# Identifying the column names for the columns with NaN and without NaN values\n",
    "listOfColumnNamesWithNaN = wind_onshore_db.columns[columnsWithNan]\n",
    "listOfColumnNamesWithoutNaN = wind_onshore_db.columns[columnsWithoutNan]"
   ]
  },
  {
   "cell_type": "markdown",
   "metadata": {},
   "source": [
    "# Forming dataframe for imputer model: "
   ]
  },
  {
   "cell_type": "markdown",
   "metadata": {},
   "source": [
    "It takes about 30 minutes to process the imputation"
   ]
  },
  {
   "cell_type": "code",
   "execution_count": null,
   "metadata": {
    "scrolled": true
   },
   "outputs": [],
   "source": [
    "for i in listOfColumnNamesWithNaN:\n",
    "    print(i)\n",
    "    randomlyChosenFullColumns = np.random.choice(listOfColumnNamesWithoutNaN, 5, replace=False)\n",
    "    df_for_imputation = pd.DataFrame(data= wind_onshore_db[randomlyChosenFullColumns], columns= randomlyChosenFullColumns)\n",
    "    df_for_imputation = df_for_imputation.join(wind_onshore_db.loc[:,i])\n",
    "    \n",
    "    df_train = df_for_imputation.iloc[:, :]\n",
    "    df_test = df_for_imputation.iloc[:, :]\n",
    "    outputColumn = list(df_for_imputation)[-1]\n",
    "\n",
    "    imputer = datawig.SimpleImputer(\n",
    "        input_columns=list(df_for_imputation)[:-1], # column(s) containing information about the column we want to impute\n",
    "        output_column= outputColumn, # the column we'd like to impute values for\n",
    "        output_path = 'imputer_model' # stores model data and metrics\n",
    "        )\n",
    "\n",
    "    #Fit an imputer model on the train data\n",
    "    imputer.fit(train_df=df_train, num_epochs=50)\n",
    "    #Impute missing values and return original dataframe with predictions\n",
    "    imputed = imputer.predict(df_test)\n",
    "    \n",
    "    wind_onshore_db[outputColumn] = wind_onshore_db[outputColumn].fillna(imputed[outputColumn + \"_imputed\"])"
   ]
  },
  {
   "cell_type": "code",
   "execution_count": null,
   "metadata": {},
   "outputs": [],
   "source": [
    "# To export the imputed dataframe.\n",
    "wind_onshore_db.to_json(r'processedData\\processed_onshore_output\\imputed_wind_onshore_db.json',orient='split')"
   ]
  },
  {
   "cell_type": "markdown",
   "metadata": {},
   "source": [
    "# Checkpoint 1"
   ]
  },
  {
   "cell_type": "code",
   "execution_count": null,
   "metadata": {},
   "outputs": [],
   "source": [
    "wind_onshore_db = pd.read_json(r'processedData\\processed_onshore_output\\imputed_wind_onshore_db.json',orient='split')"
   ]
  },
  {
   "cell_type": "code",
   "execution_count": null,
   "metadata": {},
   "outputs": [],
   "source": [
    "weights = [[\"Flevoland\", 0.322644302], [\"Fryslân\", 0.151948693], [\"Noord-Holland\", 0.123334978], [\"Zeeland\", 0.116921559], [\"Groningen\", 0.096694623], [\"Zuid-Holland\", 0.087814504], [\"Noord-Brabant\", 0.058707449]]"
   ]
  },
  {
   "cell_type": "code",
   "execution_count": null,
   "metadata": {
    "scrolled": true
   },
   "outputs": [],
   "source": [
    "average_province_windspeed = pd.DataFrame(columns=[\"Flevoland\",\"Fryslân\",\"Noord-Holland\",\"Zeeland\",\"Groningen\",\"Zuid-Holland\",\"Noord-Brabant\"])\n",
    "average_province_windspeed[\"Flevoland\"] = wind_onshore_db.loc[:,[\"sta258\",\"sta269\",\"sta273\"]].mean(axis=1)\n",
    "average_province_windspeed[\"Fryslân\"] = wind_onshore_db.loc[:,[\"sta242\",\"sta251\",\"sta267\",\"sta270\",\"sta277\",\"sta285\"]].mean(axis=1)\n",
    "average_province_windspeed[\"Noord-Holland\"] = wind_onshore_db.loc[:,[\"sta209\",\"sta225\",\"sta235\",\"sta240\",\"sta248\",\"sta249\"]].mean(axis=1)\n",
    "average_province_windspeed[\"Zeeland\"] = wind_onshore_db.loc[:,[\"sta308\",\"sta310\",\"sta311\",\"sta315\",\"sta316\",\"sta319\",\"sta323\",\"sta324\",\"sta331\"]].mean(axis=1)\n",
    "average_province_windspeed[\"Groningen\"] = wind_onshore_db.loc[:,[\"sta280\",\"sta286\"]].mean(axis=1)\n",
    "average_province_windspeed[\"Zuid-Holland\"] = wind_onshore_db.loc[:,[\"sta330\",\"sta343\",\"sta344\"]].mean(axis=1)\n",
    "average_province_windspeed[\"Noord-Brabant\"] = wind_onshore_db.loc[:,[\"sta340\",\"sta350\",\"sta370\",\"sta375\"]].mean(axis=1)\n",
    "\n",
    "# Converting 10m/s values to m/s values\n",
    "for i in list(average_province_windspeed):\n",
    "    average_province_windspeed.loc[:, i] = average_province_windspeed.loc[:, i] / 10\n",
    "\n",
    "# Identifying the weights of each province based on their number of wind turbine installations\n",
    "weights = [[\"Flevoland\", 0.322644302], [\"Fryslân\", 0.151948693], [\"Noord-Holland\", 0.123334978], [\"Zeeland\", 0.116921559], [\"Groningen\", 0.096694623], [\"Zuid-Holland\", 0.087814504], [\"Noord-Brabant\", 0.058707449]]    \n",
    "\n",
    "for i in range(len(weights)):\n",
    "    provinceName = weights[i][0]\n",
    "    provinceWeight = weights[i][1]\n",
    "    \n",
    "    average_province_windspeed.loc[:, provinceName] = average_province_windspeed.loc[:, provinceName] * provinceWeight\n",
    "\n",
    "avg_wind_speed_Hourly = pd.DataFrame(columns=[\"Value\"])\n",
    "avg_wind_speed_Hourly[\"Value\"] = average_province_windspeed.sum(axis=1)\n",
    "avg_wind_speed_Hourly = avg_wind_speed_Hourly.loc[:87599, :]\n",
    "avg_wind_speed_Hourly[\"Value\"] = avg_wind_speed_Hourly.loc[:, \"Value\"] * 1.3069127954971998034505709638027\n",
    "\n",
    "# extending it to 30 years\n",
    "avg_wind_speed_Hourly = pd.concat([avg_wind_speed_Hourly, avg_wind_speed_Hourly, avg_wind_speed_Hourly], ignore_index=True)"
   ]
  },
  {
   "cell_type": "code",
   "execution_count": null,
   "metadata": {},
   "outputs": [],
   "source": [
    "onshore_wind_values = [0,1,2,3,4, 5,  6,  7,  8,  9,  10,  11,  12,  13,  14,  15,  16,  17,  18,  19,  20,  21,  22,  23,  24,  25,  26,27,28,29]\n",
    "onshore_power_curve = [0,0,0,1,113,270,489,800,1229,1742,2309,2850,3287,3363,3400,3400,3400,3400,3400,3400,3400,3400,3400,3400,3400,3400,0, 0, 0, 0]\n",
    "\n",
    "onshore_output = pd.DataFrame(columns=[\"Value\", \"dayIndex\"])\n",
    "emptyListValue = []\n",
    "\n",
    "for i in tqdm(range(len(avg_wind_speed_Hourly))):\n",
    "    windSpeed = avg_wind_speed_Hourly.loc[i,\"Value\"]\n",
    "    windOutput = round(np.interp(windSpeed, onshore_wind_values, onshore_power_curve),3)\n",
    "    \n",
    "    emptyListValue.append(windOutput)\n",
    "    \n",
    "onshore_output[\"Value\"] = emptyListValue\n",
    "#onshore_output[\"dayIndex\"] = three_hourly_onshore_wind_speed[\"dayIndex\"]\n",
    "# finding the output of 1kW installation: \n",
    "onshore_output[\"Value\"] = onshore_output.loc[:,\"Value\"] / max(onshore_power_curve)"
   ]
  },
  {
   "cell_type": "code",
   "execution_count": null,
   "metadata": {},
   "outputs": [],
   "source": [
    "for d in tqdm(range(3650*3)):\n",
    "    for h in range(24):\n",
    "        avg_wind_speed_Hourly.loc[(d*24)+h, \"dayIndex\"] = d\n",
    "\n",
    "representativeDays = [149, 336, 1255, 1381, 1414, 1486, 2239, 3284, 3462]\n",
    "listHours = []\n",
    "\n",
    "for y in range(3):\n",
    "    for d in representativeDays:\n",
    "        for h in range(24):\n",
    "            listHours.append(24*(d+y*3650) + h)\n",
    "\n",
    "avg_wind_speed_Hourly = avg_wind_speed_Hourly[avg_wind_speed_Hourly.index.isin(listHours)]\n",
    "avg_wind_speed_Hourly = avg_wind_speed_Hourly.reset_index(drop=True)"
   ]
  },
  {
   "cell_type": "code",
   "execution_count": null,
   "metadata": {},
   "outputs": [],
   "source": [
    "three_hourly_onshore_wind_speed = pd.DataFrame(columns=[\"Value\"])\n",
    "\n",
    "emptyListValue = []\n",
    "emptyListDay = []\n",
    "\n",
    "for i in tqdm(range(int(len(avg_wind_speed_Hourly)/3))):\n",
    "    day = avg_wind_speed_Hourly.loc[1+(3*i),\"dayIndex\"]\n",
    "    value = avg_wind_speed_Hourly.loc[1+(3*i),\"Value\"]\n",
    "    emptyListValue.append(value)\n",
    "    emptyListDay.append(day)\n",
    "    \n",
    "three_hourly_onshore_wind_speed[\"Value\"] = emptyListValue\n",
    "three_hourly_onshore_wind_speed[\"dayIndex\"] = emptyListDay"
   ]
  },
  {
   "cell_type": "code",
   "execution_count": null,
   "metadata": {},
   "outputs": [],
   "source": [
    "onshore_wind_values = [0,1,2,3,4, 5,  6,  7,  8,  9,  10,  11,  12,  13,  14,  15,  16,  17,  18,  19,  20,  21,  22,  23,  24,  25,  26,27,28,29]\n",
    "onshore_power_curve = [0,0,0,1,113,270,489,800,1229,1742,2309,2850,3287,3363,3400,3400,3400,3400,3400,3400,3400,3400,3400,3400,3400,3400,0, 0, 0, 0]\n",
    "\n",
    "onshore_output = pd.DataFrame(columns=[\"Value\", \"dayIndex\"])\n",
    "emptyListValue = []\n",
    "\n",
    "for i in tqdm(range(len(three_hourly_onshore_wind_speed))):\n",
    "    windSpeed = three_hourly_onshore_wind_speed.loc[i,\"Value\"]\n",
    "    windOutput = round(np.interp(windSpeed, onshore_wind_values, onshore_power_curve),3)*3\n",
    "    \n",
    "    emptyListValue.append(windOutput)\n",
    "    \n",
    "onshore_output[\"Value\"] = emptyListValue\n",
    "onshore_output[\"dayIndex\"] = three_hourly_onshore_wind_speed[\"dayIndex\"]\n",
    "# finding the output of 1kW installation: \n",
    "onshore_output[\"Value\"] = onshore_output.loc[:,\"Value\"] / max(onshore_power_curve)"
   ]
  },
  {
   "cell_type": "code",
   "execution_count": null,
   "metadata": {},
   "outputs": [],
   "source": [
    "daily_onshore_windspeed = pd.DataFrame(columns=[\"Value\", \"dayIndex\"])\n",
    "emptyList = []\n",
    "\n",
    "for i in tqdm(range(int(len(onshore_output)/8))):\n",
    "    daily_onshore_windspeed.loc[i, \"Value\"] = list(onshore_output.loc[(0 + 8*i):(7 + 8*i), \"Value\"])\n",
    "    daily_onshore_windspeed.loc[i, \"dayIndex\"] = onshore_output.loc[(0 + 8*i), \"dayIndex\"]\n",
    "\n",
    "daily_onshore_windspeed.to_json(r\"processedData\\processed_onshore_output\\daily_3hourly_onshoreOutput.json\", orient='split')"
   ]
  }
 ],
 "metadata": {
  "kernelspec": {
   "display_name": "Python 3",
   "language": "python",
   "name": "python3"
  },
  "language_info": {
   "codemirror_mode": {
    "name": "ipython",
    "version": 3
   },
   "file_extension": ".py",
   "mimetype": "text/x-python",
   "name": "python",
   "nbconvert_exporter": "python",
   "pygments_lexer": "ipython3",
   "version": "3.6.8"
  }
 },
 "nbformat": 4,
 "nbformat_minor": 2
}
