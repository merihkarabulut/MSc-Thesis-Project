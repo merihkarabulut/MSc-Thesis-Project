{
 "cells": [
  {
   "cell_type": "code",
   "execution_count": null,
   "metadata": {},
   "outputs": [],
   "source": [
    "import pandas as pd\n",
    "import numpy as np\n",
    "import matplotlib.pyplot as plt\n",
    "from tqdm import tqdm"
   ]
  },
  {
   "cell_type": "code",
   "execution_count": null,
   "metadata": {},
   "outputs": [],
   "source": [
    "# Reading solar output dataset from json file\n",
    "solar_output_db = pd.read_json(r'rawData\\solar_output\\merged_lean_solar_data.json',orient='split')\n",
    "\n",
    "# Dropping unnecessary columns and renaming the remaining one\n",
    "solar_output = solar_output_db.drop(['lat', 'lon', \"gemeentenaam\",\"population\", \"solar_data_list\", \"temperature_data_list\"], axis=1)\n",
    "solar_output = solar_output.rename(index=str, columns={\"solar_output_list\": \"data\"})\n",
    "\n",
    "# Restructuring the dataframe in such a way that rows become columns\n",
    "solar_output_muniInColumns = solar_output[['data']].unstack().apply(pd.Series).T\n",
    "solar_output_muniInColumns = solar_output_muniInColumns.xs('data', axis=1, drop_level=True)\n",
    "\n",
    "avg_solar_output = pd.DataFrame(columns=[\"AvgValue\"])\n",
    "avg_solar_output[\"AvgValue\"] = solar_output_muniInColumns.loc[:,:].mean(axis=1)\n",
    "\n",
    "avg_solar_output.to_json(r'rawData\\solar_output\\mean_solar_output_hourly_10years.json', orient='split')"
   ]
  },
  {
   "cell_type": "code",
   "execution_count": null,
   "metadata": {},
   "outputs": [],
   "source": [
    "ax = avg_solar_output.loc[:8760, :].plot(figsize=[16,6])\n",
    "ax.set_xlabel(\"Hours\", fontsize= 14)\n",
    "ax.set_ylabel(\"Solar Output (KWh)\", fontsize= 14)\n",
    "plt.title(\"Average solar output of the Netherlands in 2020\", {'fontsize': 18})\n",
    "fig = ax.get_figure()\n",
    "# fig.savefig('solaroutput2020.png')"
   ]
  },
  {
   "cell_type": "code",
   "execution_count": null,
   "metadata": {},
   "outputs": [],
   "source": [
    "ax = avg_solar_output.loc[0:24, :].plot(figsize=[16,6])\n",
    "ax.set_xlabel(\"Hours\", fontsize= 14)\n",
    "ax.set_ylabel(\"Solar Output (KWh)\", fontsize= 14)\n",
    "plt.title(\"Daily profile of average solar output\", {'fontsize': 18})\n",
    "fig = ax.get_figure()\n",
    "# fig.savefig('solaroutputDaily.png')"
   ]
  },
  {
   "cell_type": "markdown",
   "metadata": {},
   "source": [
    "### Checkpoint - 1"
   ]
  },
  {
   "cell_type": "code",
   "execution_count": null,
   "metadata": {},
   "outputs": [],
   "source": [
    "avg_solar_output = pd.read_json(r'rawData\\solar_output\\mean_solar_output_hourly_10years.json', orient='split')"
   ]
  },
  {
   "cell_type": "code",
   "execution_count": null,
   "metadata": {},
   "outputs": [],
   "source": [
    "# Extending data set to 30 years:\n",
    "avg_solar_output = pd.concat([avg_solar_output, avg_solar_output, avg_solar_output], ignore_index=True)"
   ]
  },
  {
   "cell_type": "code",
   "execution_count": null,
   "metadata": {},
   "outputs": [],
   "source": [
    "for d in tqdm(range(3650*3)):\n",
    "    for h in range(24):\n",
    "        avg_solar_output.loc[(d*24)+h, \"dayIndex\"] = d\n",
    "\n",
    "representativeDays = [149, 336, 1255, 1381, 1414, 1486, 2239, 3284, 3462]\n",
    "listHours = []\n",
    "\n",
    "for y in range(3):\n",
    "    for d in representativeDays:\n",
    "        for h in range(24):\n",
    "            listHours.append(24*(d+y*3650) + h)\n",
    "\n",
    "avg_solar_output = avg_solar_output[avg_solar_output.index.isin(listHours)]\n",
    "avg_solar_output = avg_solar_output.reset_index(drop=True)"
   ]
  },
  {
   "cell_type": "code",
   "execution_count": null,
   "metadata": {},
   "outputs": [],
   "source": [
    "three_hourly_solar_output = pd.DataFrame(columns=[\"Value\"])\n",
    "\n",
    "emptyListValue = []\n",
    "emptyListDay = []\n",
    "\n",
    "for i in tqdm(range(int(len(avg_solar_output)/3))):\n",
    "    day = avg_solar_output.loc[1+(3*i),\"dayIndex\"]\n",
    "    value = avg_solar_output.loc[1+(3*i),\"AvgValue\"] * 3\n",
    "    emptyListValue.append(value)\n",
    "    emptyListDay.append(day)\n",
    "    \n",
    "three_hourly_solar_output[\"Value\"] = emptyListValue\n",
    "three_hourly_solar_output[\"dayIndex\"] = emptyListDay\n"
   ]
  },
  {
   "cell_type": "code",
   "execution_count": null,
   "metadata": {},
   "outputs": [],
   "source": [
    "daily_solar_output = pd.DataFrame(columns=[\"Value\", \"dayIndex\"])\n",
    "for i in tqdm(range(int(len(three_hourly_solar_output)/8))):\n",
    "    daily_solar_output.loc[i, \"dayIndex\"] = three_hourly_solar_output.loc[(0 + 8*i), \"dayIndex\"]\n",
    "    daily_solar_output.loc[i, \"Value\"] = list(three_hourly_solar_output.loc[(0 + 8*i):(7 + 8*i), \"Value\"])"
   ]
  },
  {
   "cell_type": "code",
   "execution_count": null,
   "metadata": {},
   "outputs": [],
   "source": [
    "daily_solar_output.to_json(r\"processedData\\processed_solar_output\\daily_3hourly_SolarOutput.json\", orient='split')"
   ]
  }
 ],
 "metadata": {
  "kernelspec": {
   "display_name": "Python 3",
   "language": "python",
   "name": "python3"
  },
  "language_info": {
   "codemirror_mode": {
    "name": "ipython",
    "version": 3
   },
   "file_extension": ".py",
   "mimetype": "text/x-python",
   "name": "python",
   "nbconvert_exporter": "python",
   "pygments_lexer": "ipython3",
   "version": "3.6.8"
  }
 },
 "nbformat": 4,
 "nbformat_minor": 2
}
